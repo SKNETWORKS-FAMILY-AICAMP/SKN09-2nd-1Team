{
 "cells": [
  {
   "cell_type": "markdown",
   "metadata": {},
   "source": [
    "# 0. 데이터 임포트"
   ]
  },
  {
   "cell_type": "code",
   "execution_count": 35,
   "metadata": {},
   "outputs": [
    {
     "data": {
      "text/plain": [
       "Index(['id_student', 'code_module', 'highest_education', 'studied_credits',\n",
       "       'imd_band', 'final_result', 'id_assessment', 'score', 'sum_click',\n",
       "       'mean_click', 'log_sum_click', 'log_mean_click', 'log_studied_credits',\n",
       "       'scaled_studied_credits', 'scaled_score'],\n",
       "      dtype='object')"
      ]
     },
     "execution_count": 35,
     "metadata": {},
     "output_type": "execute_result"
    }
   ],
   "source": [
    "import pandas as pd\n",
    "import numpy as np\n",
    "from sklearn.model_selection import train_test_split\n",
    "from sklearn.metrics import accuracy_score\n",
    "import xgboost as xgb\n",
    "\n",
    "df = pd.read_csv('../data/final_merge_data.csv')\n",
    "df.columns"
   ]
  },
  {
   "cell_type": "code",
   "execution_count": 36,
   "metadata": {},
   "outputs": [],
   "source": [
    "import warnings\n",
    "import lightgbm as lgb\n",
    "from sklearn.exceptions import DataConversionWarning\n",
    "\n",
    "# sklearn DataConversionWarning 무시\n",
    "warnings.filterwarnings(\"ignore\", category=DataConversionWarning)\n",
    "\n",
    "# LightGBM Warning 무시\n",
    "warnings.filterwarnings(\"ignore\", category=UserWarning)\n",
    "\n",
    "# LightGBM 모델 생성 시 verbose 파라미터 설정\n",
    "lgb_model = lgb.LGBMClassifier(verbose=-1)  # -1: 모든 메시지 끄기"
   ]
  },
  {
   "cell_type": "code",
   "execution_count": 37,
   "metadata": {},
   "outputs": [],
   "source": [
    "# 데이터 준비 (final_merged_data에서 학습에 필요한 컬럼을 선택하여 X, y로 분리)\n",
    "X = df.drop(['id_student', 'code_module', 'id_assessment', 'final_result'], axis=1)  # id_student, final_result 제외한 변수들\n",
    "y = df['final_result']  # 이탈 여부 (final_result)\n",
    "\n",
    "# 학습용, 테스트용 데이터 분리\n",
    "X_train, X_test, y_train, y_test = train_test_split(X, y, test_size=0.2, stratify=y, random_state=42)"
   ]
  },
  {
   "cell_type": "code",
   "execution_count": 38,
   "metadata": {},
   "outputs": [],
   "source": [
    "# 'code_module', 'highest_education', 'studied_credits', 'imd_band', 'score', 'sum_click', 'mean_click', 'log_sum_click', 'log_mean_click', 'log_studied_credits', 'scaled_studied_credits', 'scaled_score'"
   ]
  },
  {
   "cell_type": "markdown",
   "metadata": {},
   "source": [
    "# 1. XGBoost"
   ]
  },
  {
   "cell_type": "code",
   "execution_count": 39,
   "metadata": {},
   "outputs": [
    {
     "name": "stdout",
     "output_type": "stream",
     "text": [
      "XGBoost 모델 정확도: 88.23%\n"
     ]
    }
   ],
   "source": [
    "# XGBoost 모델 생성\n",
    "xgb_model = xgb.XGBClassifier(eval_metric='mlogloss')\n",
    "\n",
    "# 모델 학습\n",
    "xgb_model.fit(X_train, y_train)\n",
    "\n",
    "# 예측\n",
    "y_pred_xgb = xgb_model.predict(X_test)\n",
    "\n",
    "# 정확도 확인\n",
    "xgb_accuracy = accuracy_score(y_test, y_pred_xgb)\n",
    "print(f'XGBoost 모델 정확도: {xgb_accuracy * 100:.2f}%')"
   ]
  },
  {
   "cell_type": "code",
   "execution_count": 40,
   "metadata": {},
   "outputs": [
    {
     "name": "stdout",
     "output_type": "stream",
     "text": [
      "정확도(Accuracy): 0.88\n",
      "정밀도(Precision): 0.88\n",
      "재현율(Recall): 0.99\n",
      "F1 Score: 0.94\n"
     ]
    }
   ],
   "source": [
    "from sklearn.metrics import accuracy_score, precision_score, recall_score, f1_score\n",
    "\n",
    "# 예시: y_test는 실제 값, y_pred는 모델의 예측 값\n",
    "# y_test = 실제값 (정답 레이블)\n",
    "# y_pred = 예측값 (모델의 출력)\n",
    "\n",
    "# 정확도(Accuracy) 계산\n",
    "accuracy = accuracy_score(y_test, y_pred_xgb)\n",
    "\n",
    "# 정밀도(Precision) 계산\n",
    "precision = precision_score(y_test, y_pred_xgb)\n",
    "\n",
    "# 재현율(Recall) 계산\n",
    "recall = recall_score(y_test, y_pred_xgb)\n",
    "\n",
    "# F1 Score 계산\n",
    "f1 = f1_score(y_test, y_pred_xgb)\n",
    "\n",
    "# 결과 출력\n",
    "print(f\"정확도(Accuracy): {accuracy:.2f}\")\n",
    "print(f\"정밀도(Precision): {precision:.2f}\")\n",
    "print(f\"재현율(Recall): {recall:.2f}\")\n",
    "print(f\"F1 Score: {f1:.2f}\")\n"
   ]
  },
  {
   "cell_type": "code",
   "execution_count": null,
   "metadata": {},
   "outputs": [
    {
     "name": "stderr",
     "output_type": "stream",
     "text": [
      "c:\\Users\\Playdata\\AppData\\Local\\anaconda3\\envs\\pystudy_env\\Lib\\site-packages\\xgboost\\core.py:158: UserWarning: [17:05:50] WARNING: C:\\buildkite-agent\\builds\\buildkite-windows-cpu-autoscaling-group-i-0c55ff5f71b100e98-1\\xgboost\\xgboost-ci-windows\\src\\learner.cc:740: \n",
      "Parameters: { \"early_stopping_rounds\" } are not used.\n",
      "\n",
      "  warnings.warn(smsg, UserWarning)\n"
     ]
    },
    {
     "name": "stdout",
     "output_type": "stream",
     "text": [
      "최적의 학습 횟수:  0\n",
      "최적 부스팅 라운드 수: 0\n",
      "모델 정확도: 50.08%\n"
     ]
    },
    {
     "name": "stderr",
     "output_type": "stream",
     "text": [
      "c:\\Users\\Playdata\\AppData\\Local\\anaconda3\\envs\\pystudy_env\\Lib\\site-packages\\xgboost\\core.py:158: UserWarning: [17:05:53] WARNING: C:\\buildkite-agent\\builds\\buildkite-windows-cpu-autoscaling-group-i-0c55ff5f71b100e98-1\\xgboost\\xgboost-ci-windows\\src\\learner.cc:740: \n",
      "Parameters: { \"early_stopping_rounds\" } are not used.\n",
      "\n",
      "  warnings.warn(smsg, UserWarning)\n"
     ]
    }
   ],
   "source": [
    "import xgboost as xgb\n",
    "import numpy as np\n",
    "from sklearn.model_selection import train_test_split\n",
    "from sklearn.metrics import accuracy_score\n",
    "\n",
    "# 예시 데이터 생성 (여기서는 200000개 샘플을 생성)\n",
    "X = np.random.rand(200000, 12)\n",
    "y = np.random.randint(0, 2, 200000)\n",
    "\n",
    "# 데이터 분할\n",
    "X_train, X_test, y_train, y_test = train_test_split(X, y, test_size=0.2, random_state=42)\n",
    "\n",
    "# XGBoost DMatrix 생성\n",
    "dtrain = xgb.DMatrix(X_train, label=y_train)\n",
    "dtest = xgb.DMatrix(X_test, label=y_test)\n",
    "\n",
    "# 하이퍼파라미터 그리드 설정\n",
    "param_grid = {\n",
    "    'learning_rate': [0.01, 0.05, 0.1],\n",
    "    'max_depth': [3, 5, 7],\n",
    "    'n_estimators': [100, 200],\n",
    "    'subsample': [0.8, 1.0],\n",
    "    'colsample_bytree': [0.8, 1.0]\n",
    "}\n",
    "\n",
    "# 초기 파라미터 설정\n",
    "params = {\n",
    "    'objective': 'binary:logistic',  # 이진 분류\n",
    "    'eval_metric': 'logloss',        # 평가 지표: 로그 손실\n",
    "    'early_stopping_rounds': 10,     # 성능 향상이 없을 때 학습을 조기 종료\n",
    "}\n",
    "\n",
    "# xgb.cv를 사용하여 교차 검증\n",
    "cv_results = xgb.cv(\n",
    "    params=params,\n",
    "    dtrain=dtrain,\n",
    "    num_boost_round=200,  # 최대 부스팅 라운드 수\n",
    "    nfold=3,              # 3폴드 교차 검증\n",
    "    metrics='logloss',    # 성능 지표: 로그 손실\n",
    "    as_pandas=True,       # pandas DataFrame 형식으로 결과 출력\n",
    "    seed=42               # 랜덤 시드 고정\n",
    ")\n",
    "\n",
    "# 교차 검증 결과 확인\n",
    "print(\"최적의 학습 횟수: \", cv_results['test-logloss-mean'].idxmin())  # 가장 낮은 logloss 값의 인덱스\n",
    "\n",
    "# 최적 부스팅 라운드 수 추출\n",
    "best_num_boost_round = cv_results['test-logloss-mean'].idxmin()\n",
    "print(f\"최적 부스팅 라운드 수: {best_num_boost_round}\")\n",
    "\n",
    "# 최적 모델 학습\n",
    "final_model = xgb.train(\n",
    "    params=params,\n",
    "    dtrain=dtrain,\n",
    "    num_boost_round=best_num_boost_round\n",
    ")\n",
    "\n",
    "# 예측\n",
    "y_pred = final_model.predict(dtest)\n",
    "y_pred_binary = (y_pred > 0.5).astype(int)  # 이진 분류로 변환\n",
    "\n",
    "# 정확도 평가\n",
    "accuracy = accuracy_score(y_test, y_pred_binary)\n",
    "print(f\"모델 정확도: {accuracy * 100:.2f}%\")\n"
   ]
  },
  {
   "cell_type": "markdown",
   "metadata": {},
   "source": [
    "# 2. DecisionTree"
   ]
  },
  {
   "cell_type": "code",
   "execution_count": 41,
   "metadata": {},
   "outputs": [
    {
     "name": "stdout",
     "output_type": "stream",
     "text": [
      "의사결정나무 모델 정확도: 88.90%\n"
     ]
    }
   ],
   "source": [
    "from sklearn.tree import DecisionTreeClassifier\n",
    "\n",
    "# DecisionTree 모델 생성\n",
    "dt_model = DecisionTreeClassifier(random_state=42)\n",
    "\n",
    "# 모델 학습\n",
    "dt_model.fit(X_train, y_train)\n",
    "\n",
    "# 예측\n",
    "y_pred_dt = dt_model.predict(X_test)\n",
    "\n",
    "# 정확도 확인\n",
    "dt_accuracy = accuracy_score(y_test, y_pred_dt)\n",
    "print(f'의사결정나무 모델 정확도: {dt_accuracy * 100:.2f}%')\n"
   ]
  },
  {
   "cell_type": "code",
   "execution_count": null,
   "metadata": {},
   "outputs": [],
   "source": [
    "# 필요한 라이브러리 임포트\n",
    "from sklearn.model_selection import GridSearchCV\n",
    "from sklearn.tree import DecisionTreeClassifier\n",
    "from sklearn.metrics import accuracy_score\n",
    "\n",
    "\n",
    "# Decision Tree 모델 초기화\n",
    "dt = DecisionTreeClassifier(random_state=42)\n",
    "\n",
    "# 튜닝할 하이퍼파라미터 그리드 설정\n",
    "param_grid = {\n",
    "    'max_depth': [3, 5, 10, None],              # \n",
    "    'min_samples_split': [2, 5, 10],            # \n",
    "    'min_samples_leaf': [1, 2, 4],              # \n",
    "    'max_features': [None, 'sqrt', 'log2'],     # \n",
    "}\n",
    "\n",
    "# GridSearchCV로 하이퍼파라미터 튜닝\n",
    "grid_search = GridSearchCV(estimator=dt, param_grid=param_grid, cv=5, scoring='accuracy', verbose=1)\n",
    "\n",
    "# 모델 학습\n",
    "grid_search.fit(X_train, y_train)\n",
    "\n",
    "# 최적의 파라미터 확인\n",
    "print(\"Best Parameters:\", grid_search.best_params_)\n",
    "\n",
    "# 최적 모델로 예측\n",
    "best_dt = grid_search.best_estimator_\n",
    "y_pred = best_dt.predict(X_test)\n",
    "\n",
    "# 정확도 평가\n",
    "accuracy = accuracy_score(y_test, y_pred)\n",
    "print(f\"Accuracy: {accuracy * 100:.2f}%\")"
   ]
  },
  {
   "cell_type": "code",
   "execution_count": null,
   "metadata": {},
   "outputs": [
    {
     "name": "stderr",
     "output_type": "stream",
     "text": [
      "C:\\Users\\Playdata\\AppData\\Local\\Temp\\ipykernel_19848\\4206659533.py:7: FutureWarning: \n",
      "\n",
      "Passing `palette` without assigning `hue` is deprecated and will be removed in v0.14.0. Assign the `y` variable to `hue` and set `legend=False` for the same effect.\n",
      "\n",
      "  sns.barplot(x=feature_importances, y=feature_importances.index, palette='viridis')\n"
     ]
    },
    {
     "data": {
      "image/png": "[encoded data removed]",
      "text/plain": [
       "<Figure size 1000x500 with 1 Axes>"
      ]
     },
     "metadata": {},
     "output_type": "display_data"
    }
   ],
   "source": [
    "import matplotlib.pyplot as plt\n",
    "import seaborn as sns\n",
    "\n",
    "feature_importances = pd.Series(best_dt.feature_importances_, index=df.drop(columns=['id_student', 'code_module', 'id_assessment', 'final_result']).columns).sort_values(ascending=False)\n",
    "\n",
    "plt.figure(figsize=(10, 5))\n",
    "sns.barplot(x=feature_importances, y=feature_importances.index, palette='viridis')\n",
    "plt.title(\"Feature Importance - Random Forest\")\n",
    "plt.xlabel(\"Importance Score\")\n",
    "plt.ylabel(\"Features\")\n",
    "plt.show()\n"
   ]
  },
  {
   "cell_type": "code",
   "execution_count": 42,
   "metadata": {},
   "outputs": [
    {
     "name": "stdout",
     "output_type": "stream",
     "text": [
      "Fitting 3 folds for each of 24 candidates, totalling 72 fits\n",
      "최적 하이퍼파라미터:  {'criterion': 'entropy', 'max_depth': None, 'min_samples_leaf': 1, 'min_samples_split': 2}\n",
      "최적화된 의사결정나무 모델 정확도: 89.29%\n"
     ]
    }
   ],
   "source": [
    "from sklearn.tree import DecisionTreeClassifier\n",
    "from sklearn.model_selection import GridSearchCV\n",
    "\n",
    "# 하이퍼파라미터 그리드 설정\n",
    "dt_param_grid = {\n",
    "    'max_depth': [7, 10, None],\n",
    "    'min_samples_split': [2, 5],\n",
    "    'min_samples_leaf': [1, 2],\n",
    "    'criterion': ['gini', 'entropy']\n",
    "}\n",
    "\n",
    "# DecisionTree 모델 초기화\n",
    "dt_model = DecisionTreeClassifier(random_state=42)\n",
    "\n",
    "# GridSearchCV를 이용한 하이퍼파라미터 튜닝\n",
    "grid_search_dt = GridSearchCV(estimator=dt_model, param_grid=dt_param_grid, \n",
    "                              scoring='accuracy', cv=3, n_jobs=-1, verbose=1)\n",
    "\n",
    "# 모델 학습\n",
    "grid_search_dt.fit(X_train, y_train)\n",
    "\n",
    "# 최적 파라미터 확인\n",
    "print(\"최적 하이퍼파라미터: \", grid_search_dt.best_params_)\n",
    "\n",
    "# 최적 모델로 예측\n",
    "best_dt_model = grid_search_dt.best_estimator_\n",
    "y_pred_dt = best_dt_model.predict(X_test)\n",
    "\n",
    "# 정확도 확인\n",
    "dt_accuracy = accuracy_score(y_test, y_pred_dt)\n",
    "print(f'최적화된 의사결정나무 모델 정확도: {dt_accuracy * 100:.2f}%')\n"
   ]
  },
  {
   "cell_type": "code",
   "execution_count": 46,
   "metadata": {},
   "outputs": [
    {
     "name": "stderr",
     "output_type": "stream",
     "text": [
      "C:\\Users\\Playdata\\AppData\\Local\\Temp\\ipykernel_232\\935701874.py:7: FutureWarning: \n",
      "\n",
      "Passing `palette` without assigning `hue` is deprecated and will be removed in v0.14.0. Assign the `y` variable to `hue` and set `legend=False` for the same effect.\n",
      "\n",
      "  sns.barplot(x=feature_importances, y=feature_importances.index, palette='viridis')\n"
     ]
    },
    {
     "data": {
      "image/png": "[encoded data removed]",
      "text/plain": [
       "<Figure size 1000x500 with 1 Axes>"
      ]
     },
     "metadata": {},
     "output_type": "display_data"
    }
   ],
   "source": [
    "import matplotlib.pyplot as plt\n",
    "import seaborn as sns\n",
    "\n",
    "feature_importances = pd.Series(best_dt_model.feature_importances_, index=X.columns).sort_values(ascending=False)\n",
    "\n",
    "plt.figure(figsize=(10, 5))\n",
    "sns.barplot(x=feature_importances, y=feature_importances.index, palette='viridis')\n",
    "plt.title(\"Feature Importance - Random Forest\")\n",
    "plt.xlabel(\"Importance Score\")\n",
    "plt.ylabel(\"Features\")\n",
    "plt.show()\n"
   ]
  },
  {
   "cell_type": "code",
   "execution_count": 43,
   "metadata": {},
   "outputs": [
    {
     "name": "stdout",
     "output_type": "stream",
     "text": [
      "\n",
      "=== 기본 Random Forest 성능 ===\n",
      "Accuracy: 0.8990\n",
      "F1 Score: 0.8934\n",
      "R2 Score: 0.1241\n",
      "\n",
      "Confusion Matrix:\n",
      "[[ 2492  2428]\n",
      " [ 1308 30756]]\n",
      "\n",
      "Classification Report:\n",
      "              precision    recall  f1-score   support\n",
      "\n",
      "           0       0.66      0.51      0.57      4920\n",
      "           1       0.93      0.96      0.94     32064\n",
      "\n",
      "    accuracy                           0.90     36984\n",
      "   macro avg       0.79      0.73      0.76     36984\n",
      "weighted avg       0.89      0.90      0.89     36984\n",
      "\n"
     ]
    }
   ],
   "source": [
    "import pandas as pd\n",
    "import numpy as np\n",
    "import matplotlib.pyplot as plt\n",
    "import seaborn as sns\n",
    "from sklearn.model_selection import train_test_split, RandomizedSearchCV\n",
    "from sklearn.preprocessing import StandardScaler\n",
    "from sklearn.ensemble import RandomForestClassifier\n",
    "from sklearn.metrics import accuracy_score, f1_score, r2_score, confusion_matrix, classification_report\n",
    "from scipy.stats import randint\n",
    "\n",
    "\n",
    "# 5. 기본 랜덤 포레스트 모델 학습\n",
    "rf_model = RandomForestClassifier(random_state=42, n_estimators=100, max_depth=None)  # ✅ 기본 설정 유지\n",
    "rf_model.fit(X_train, y_train)\n",
    "y_pred = rf_model.predict(X_test)\n",
    "\n",
    "# 6. 성능 평가 (기본 모델)\n",
    "acc = accuracy_score(y_test, y_pred)\n",
    "f1 = f1_score(y_test, y_pred, average='weighted')\n",
    "r2 = r2_score(y_test, y_pred)  # ✅ r2_score 추가\n",
    "\n",
    "print(f\"\\n=== 기본 Random Forest 성능 ===\")\n",
    "print(f\"Accuracy: {acc:.4f}\")\n",
    "print(f\"F1 Score: {f1:.4f}\")\n",
    "print(f\"R2 Score: {r2:.4f}\")  # ✅ r2_score 출력\n",
    "print(\"\\nConfusion Matrix:\")\n",
    "print(confusion_matrix(y_test, y_pred))\n",
    "print(\"\\nClassification Report:\")\n",
    "print(classification_report(y_test, y_pred))\n"
   ]
  },
  {
   "cell_type": "code",
   "execution_count": null,
   "metadata": {},
   "outputs": [],
   "source": [
    "\n",
    "# 7. 하이퍼파라미터 튜닝 (RandomizedSearchCV 적용)\n",
    "param_dist = {\n",
    "    'n_estimators': randint(100, 200),  # ✅ n_estimators 범위를 100~200으로 조정\n",
    "    'max_depth': [10, 20, None],  # ✅ 깊이를 최적화하여 과적합 방지\n",
    "    'min_samples_split': [2, 5, 10],  # ✅ 탐색 범위 유지\n",
    "    'min_samples_leaf': [1, 2, 4],  # ✅ 탐색 범위 유지\n",
    "    'criterion': ['gini', 'entropy']\n",
    "}\n",
    "\n",
    "random_search = RandomizedSearchCV(RandomForestClassifier(random_state=42),\n",
    "                                    param_distributions=param_dist,\n",
    "                                    n_iter=10,  # ✅ 10개의 랜덤 샘플링\n",
    "                                    cv=5,  # ✅ 5-Fold Cross Validation\n",
    "                                    scoring='accuracy',\n",
    "                                    n_jobs=-1,\n",
    "                                    random_state=42)\n",
    "random_search.fit(X_train_scaled, y_train)\n",
    "\n",
    "# 8. 최적의 하이퍼파라미터 및 성능 확인\n",
    "best_model = random_search.best_estimator_\n",
    "best_params = random_search.best_params_\n",
    "\n",
    "print(\"\\n=== 하이퍼파라미터 최적화 후 Random Forest 성능 ===\")\n",
    "print(f\"Best Parameters: {best_params}\")\n",
    "\n",
    "# 9. 최적 모델 평가\n",
    "y_pred_best = best_model.predict(X_test_scaled)\n",
    "acc_best = accuracy_score(y_test, y_pred_best)\n",
    "f1_best = f1_score(y_test, y_pred_best, average='weighted')\n",
    "#r2_best = r2_score(y_test, y_pred_best)  # ✅ r2_score 추가\n",
    "\n",
    "print(f\"Best Accuracy: {acc_best:.4f}\")\n",
    "print(f\"Best F1 Score: {f1_best:.4f}\")\n",
    "#print(f\"Best R2 Score: {r2_best:.4f}\")  # ✅ r2_score 출력\n",
    "\n",
    "# 10. 혼동 행렬 시각화\n",
    "plt.figure(figsize=(6, 4))\n",
    "sns.heatmap(confusion_matrix(y_test, y_pred_best), annot=True, fmt='d', cmap='Blues', xticklabels=['Not Withdrawn', 'Withdrawn'], yticklabels=['Not Withdrawn', 'Withdrawn'])\n",
    "plt.title(\"Confusion Matrix - Random Forest (Optimized)\")\n",
    "plt.xlabel(\"Predicted\")\n",
    "plt.ylabel(\"Actual\")\n",
    "plt.show()\n",
    "\n",
    "# 11. Feature Importance 시각화\n",
    "feature_importances = pd.Series(best_model.feature_importances_, index=df.drop(columns=['final_result']).columns).sort_values(ascending=False)\n",
    "\n",
    "plt.figure(figsize=(10, 5))\n",
    "sns.barplot(x=feature_importances, y=feature_importances.index, palette='viridis')\n",
    "plt.title(\"Feature Importance - Random Forest\")\n",
    "plt.xlabel(\"Importance Score\")\n",
    "plt.ylabel(\"Features\")\n",
    "plt.show()\n"
   ]
  },
  {
   "cell_type": "markdown",
   "metadata": {},
   "source": [
    "---"
   ]
  },
  {
   "cell_type": "markdown",
   "metadata": {},
   "source": [
    "# 3. Light GBM"
   ]
  },
  {
   "cell_type": "code",
   "execution_count": null,
   "metadata": {},
   "outputs": [],
   "source": [
    "import pandas as pd\n",
    "import numpy as np\n",
    "from sklearn.metrics import accuracy_score\n",
    "import xgboost as xgb\n",
    "import lightgbm as lgb\n",
    "from sklearn.model_selection import RandomizedSearchCV\n",
    "from sklearn.metrics import accuracy_score, roc_auc_score, confusion_matrix\n"
   ]
  },
  {
   "cell_type": "code",
   "execution_count": null,
   "metadata": {},
   "outputs": [
    {
     "name": "stdout",
     "output_type": "stream",
     "text": [
      "[LightGBM] [Info] Number of positive: 128254, number of negative: 19678\n",
      "[LightGBM] [Info] This is the GPU trainer!!\n",
      "[LightGBM] [Info] Total Bins 1383\n",
      "[LightGBM] [Info] Number of data points in the train set: 147932, number of used features: 11\n",
      "[LightGBM] [Info] Using GPU Device: Intel(R) Iris(R) Xe Graphics, Vendor: Intel(R) Corporation\n",
      "[LightGBM] [Info] Compiling OpenCL Kernel with 256 bins...\n",
      "[LightGBM] [Info] GPU programs have been built\n",
      "[LightGBM] [Info] Size of histogram bin entry: 8\n",
      "[LightGBM] [Info] 11 dense feature groups (1.69 MB) transferred to GPU in 0.003345 secs. 0 sparse feature groups\n",
      "[LightGBM] [Info] [binary:BoostFromScore]: pavg=0.866979 -> initscore=1.874511\n",
      "[LightGBM] [Info] Start training from score 1.874511\n",
      "Initial Accuracy: 0.8716742375081116\n",
      "Initial ROC AUC Score: 0.5196616675186213\n",
      "Fitting 3 folds for each of 30 candidates, totalling 90 fits\n"
     ]
    },
    {
     "name": "stderr",
     "output_type": "stream",
     "text": [
      "c:\\Users\\Playdata\\AppData\\Local\\anaconda3\\envs\\pystudy_env\\Lib\\site-packages\\sklearn\\model_selection\\_validation.py:528: FitFailedWarning: \n",
      "11 fits failed out of a total of 90.\n",
      "The score on these train-test partitions for these parameters will be set to nan.\n",
      "If these failures are not expected, you can try to debug them by setting error_score='raise'.\n",
      "\n",
      "Below are more details about the failures:\n",
      "--------------------------------------------------------------------------------\n",
      "11 fits failed with the following error:\n",
      "Traceback (most recent call last):\n",
      "  File \"c:\\Users\\Playdata\\AppData\\Local\\anaconda3\\envs\\pystudy_env\\Lib\\site-packages\\sklearn\\model_selection\\_validation.py\", line 866, in _fit_and_score\n",
      "    estimator.fit(X_train, y_train, **fit_params)\n",
      "  File \"c:\\Users\\Playdata\\AppData\\Local\\anaconda3\\envs\\pystudy_env\\Lib\\site-packages\\lightgbm\\sklearn.py\", line 1284, in fit\n",
      "    super().fit(\n",
      "  File \"c:\\Users\\Playdata\\AppData\\Local\\anaconda3\\envs\\pystudy_env\\Lib\\site-packages\\lightgbm\\sklearn.py\", line 955, in fit\n",
      "    self._Booster = train(\n",
      "                    ^^^^^^\n",
      "  File \"c:\\Users\\Playdata\\AppData\\Local\\anaconda3\\envs\\pystudy_env\\Lib\\site-packages\\lightgbm\\engine.py\", line 307, in train\n",
      "    booster.update(fobj=fobj)\n",
      "  File \"c:\\Users\\Playdata\\AppData\\Local\\anaconda3\\envs\\pystudy_env\\Lib\\site-packages\\lightgbm\\basic.py\", line 4135, in update\n",
      "    _safe_call(\n",
      "  File \"c:\\Users\\Playdata\\AppData\\Local\\anaconda3\\envs\\pystudy_env\\Lib\\site-packages\\lightgbm\\basic.py\", line 296, in _safe_call\n",
      "    raise LightGBMError(_LIB.LGBM_GetLastError().decode(\"utf-8\"))\n",
      "lightgbm.basic.LightGBMError: Unknown OpenCL Error (-14)\n",
      "\n",
      "  warnings.warn(some_fits_failed_message, FitFailedWarning)\n"
     ]
    },
    {
     "name": "stdout",
     "output_type": "stream",
     "text": [
      "[LightGBM] [Warning] min_data_in_leaf is set=20, min_child_samples=20 will be ignored. Current value: min_data_in_leaf=20\n",
      "[LightGBM] [Warning] feature_fraction is set=0.9, colsample_bytree=1.0 will be ignored. Current value: feature_fraction=0.9\n",
      "[LightGBM] [Warning] min_data_in_leaf is set=20, min_child_samples=20 will be ignored. Current value: min_data_in_leaf=20\n",
      "[LightGBM] [Warning] feature_fraction is set=0.9, colsample_bytree=1.0 will be ignored. Current value: feature_fraction=0.9\n",
      "[LightGBM] [Info] Number of positive: 128254, number of negative: 19678\n",
      "[LightGBM] [Info] This is the GPU trainer!!\n",
      "[LightGBM] [Info] Total Bins 1383\n",
      "[LightGBM] [Info] Number of data points in the train set: 147932, number of used features: 11\n",
      "[LightGBM] [Info] Using GPU Device: Intel(R) Iris(R) Xe Graphics, Vendor: Intel(R) Corporation\n",
      "[LightGBM] [Info] Compiling OpenCL Kernel with 256 bins...\n",
      "[LightGBM] [Info] GPU programs have been built\n",
      "[LightGBM] [Info] Size of histogram bin entry: 8\n",
      "[LightGBM] [Info] 11 dense feature groups (1.69 MB) transferred to GPU in 0.005769 secs. 0 sparse feature groups\n",
      "[LightGBM] [Info] [binary:BoostFromScore]: pavg=0.866979 -> initscore=1.874511\n",
      "[LightGBM] [Info] Start training from score 1.874511\n",
      "Best parameters found: {'num_leaves': 40, 'n_estimators': 200, 'min_data_in_leaf': 20, 'max_depth': 10, 'learning_rate': 0.2, 'feature_fraction': 0.9}\n",
      "Best AUC Score: 0.888527283851241\n",
      "[LightGBM] [Warning] min_data_in_leaf is set=20, min_child_samples=20 will be ignored. Current value: min_data_in_leaf=20\n",
      "[LightGBM] [Warning] feature_fraction is set=0.9, colsample_bytree=1.0 will be ignored. Current value: feature_fraction=0.9\n",
      "Final Accuracy: 0.8900876054510058\n",
      "Final ROC AUC Score: 0.6071078118153936\n"
     ]
    }
   ],
   "source": [
    "# LightGBM 모델 생성\n",
    "lgbm = lgb.LGBMClassifier(random_state=42, device=\"gpu\")  # GPU 사용 가능하면 활성화\n",
    "\n",
    "# 기본 모델 학습 (확인용)\n",
    "lgbm.fit(X_train, y_train)\n",
    "y_pred = lgbm.predict(X_test)\n",
    "print(f'Initial Accuracy: {accuracy_score(y_test, y_pred)}')\n",
    "print(f'Initial ROC AUC Score: {roc_auc_score(y_test, y_pred)}')\n",
    "\n",
    "# 하이퍼파라미터 범위 최적화 (범위 축소)\n",
    "param_dist = {\n",
    "    'num_leaves': [20, 40, 60],  # 기존보다 줄임\n",
    "    'learning_rate': [0.1, 0.2],  # 너무 낮은 값 제외\n",
    "    'n_estimators': [100, 200],  # 500개 → 200개로 축소\n",
    "    'max_depth': [5, 10],  # 너무 깊은 트리는 제거\n",
    "    'min_data_in_leaf': [20, 40],  \n",
    "    'feature_fraction': [0.7, 0.9],  \n",
    "}\n",
    "# 'num_leaves': 40, 'n_estimators': 200, 'min_data_in_leaf': 40, 'max_depth': 10, 'learning_rate': 0.2, 'feature_fraction': 0.9}\n",
    "\n",
    "\n",
    "# RandomizedSearchCV 적용 (탐색 횟수 30번, 병렬처리 활성화)\n",
    "random_search = RandomizedSearchCV(\n",
    "    estimator=lgbm, \n",
    "    param_distributions=param_dist, \n",
    "    n_iter=30,  # 탐색 횟수 감소\n",
    "    cv=3,  # 3-Fold 교차검증\n",
    "    scoring='roc_auc', \n",
    "    n_jobs=-1,  # 병렬 처리\n",
    "    verbose=2,\n",
    "    random_state=42\n",
    ")\n",
    "\n",
    "# 최적화 실행\n",
    "random_search.fit(X_train, y_train)\n",
    "\n",
    "# 최적의 하이퍼파라미터 출력\n",
    "print(f'Best parameters found: {random_search.best_params_}')\n",
    "print(f'Best AUC Score: {random_search.best_score_}')\n",
    "\n",
    "# 최적 모델로 최종 평가\n",
    "best_lgbm = random_search.best_estimator_\n",
    "y_pred_final = best_lgbm.predict(X_test)\n",
    "print(f'Final Accuracy: {accuracy_score(y_test, y_pred_final)}')\n",
    "print(f'Final ROC AUC Score: {roc_auc_score(y_test, y_pred_final)}')"
   ]
  },
  {
   "cell_type": "code",
   "execution_count": 45,
   "metadata": {},
   "outputs": [
    {
     "name": "stdout",
     "output_type": "stream",
     "text": [
      "정확도(Accuracy): 0.89\n",
      "정밀도(Precision): 0.89\n",
      "재현율(Recall): 0.99\n",
      "F1 Score: 0.94\n"
     ]
    }
   ],
   "source": [
    "from sklearn.metrics import accuracy_score, precision_score, recall_score, f1_score\n",
    "\n",
    "# 예시: y_test는 실제 값, y_pred는 모델의 예측 값\n",
    "# y_test = 실제값 (정답 레이블)\n",
    "# y_pred = 예측값 (모델의 출력)\n",
    "\n",
    "# 정확도(Accuracy) 계산\n",
    "accuracy = accuracy_score(y_test, y_pred_final)\n",
    "\n",
    "# 정밀도(Precision) 계산\n",
    "precision = precision_score(y_test, y_pred_final)\n",
    "\n",
    "# 재현율(Recall) 계산\n",
    "recall = recall_score(y_test, y_pred_final)\n",
    "\n",
    "# F1 Score 계산\n",
    "f1 = f1_score(y_test, y_pred_final)\n",
    "\n",
    "# 결과 출력\n",
    "print(f\"정확도(Accuracy): {accuracy:.2f}\")\n",
    "print(f\"정밀도(Precision): {precision:.2f}\")\n",
    "print(f\"재현율(Recall): {recall:.2f}\")\n",
    "print(f\"F1 Score: {f1:.2f}\")\n"
   ]
  },
  {
   "cell_type": "code",
   "execution_count": null,
   "metadata": {},
   "outputs": [
    {
     "name": "stdout",
     "output_type": "stream",
     "text": [
      "[LightGBM] [Info] Number of positive: 128273, number of negative: 19659\n",
      "[LightGBM] [Info] Auto-choosing row-wise multi-threading, the overhead of testing was 0.003763 seconds.\n",
      "You can set `force_row_wise=true` to remove the overhead.\n",
      "And if memory is not enough, you can set `force_col_wise=true`.\n",
      "[LightGBM] [Info] Total Bins 1393\n",
      "[LightGBM] [Info] Number of data points in the train set: 147932, number of used features: 12\n",
      "[LightGBM] [Info] [binary:BoostFromScore]: pavg=0.867108 -> initscore=1.875626\n",
      "[LightGBM] [Info] Start training from score 1.875626\n",
      "Accuracy: 0.8805699762059269\n",
      "ROC AUC Score: 0.5724544356107848\n",
      "Confusion Matrix:\n",
      "[[  751  4188]\n",
      " [  229 31816]]\n",
      "Fitting 3 folds for each of 64 candidates, totalling 192 fits\n",
      "[LightGBM] [Warning] min_data_in_leaf is set=20, min_child_samples=20 will be ignored. Current value: min_data_in_leaf=20\n",
      "[LightGBM] [Warning] feature_fraction is set=0.8, colsample_bytree=1.0 will be ignored. Current value: feature_fraction=0.8\n",
      "[LightGBM] [Warning] min_data_in_leaf is set=20, min_child_samples=20 will be ignored. Current value: min_data_in_leaf=20\n",
      "[LightGBM] [Warning] feature_fraction is set=0.8, colsample_bytree=1.0 will be ignored. Current value: feature_fraction=0.8\n",
      "[LightGBM] [Info] Number of positive: 128273, number of negative: 19659\n",
      "[LightGBM] [Info] Auto-choosing col-wise multi-threading, the overhead of testing was 0.004249 seconds.\n",
      "You can set `force_col_wise=true` to remove the overhead.\n",
      "[LightGBM] [Info] Total Bins 1393\n",
      "[LightGBM] [Info] Number of data points in the train set: 147932, number of used features: 12\n",
      "[LightGBM] [Info] [binary:BoostFromScore]: pavg=0.867108 -> initscore=1.875626\n",
      "[LightGBM] [Info] Start training from score 1.875626\n",
      "Best parameters found by grid search: {'feature_fraction': 0.8, 'learning_rate': 0.05, 'max_depth': -1, 'min_data_in_leaf': 20, 'n_estimators': 200, 'num_leaves': 50}\n",
      "Best AUC Score: 0.8866166714354504\n",
      "[LightGBM] [Warning] min_data_in_leaf is set=20, min_child_samples=20 will be ignored. Current value: min_data_in_leaf=20\n",
      "[LightGBM] [Warning] feature_fraction is set=0.8, colsample_bytree=1.0 will be ignored. Current value: feature_fraction=0.8\n",
      "Final Accuracy: 0.8889790179537097\n",
      "Final ROC AUC Score: 0.6004276293103843\n"
     ]
    }
   ],
   "source": [
    "# 필요한 라이브러리 임포트\n",
    "import lightgbm as lgb\n",
    "from sklearn.model_selection import train_test_split, GridSearchCV\n",
    "from sklearn.metrics import accuracy_score, roc_auc_score, confusion_matrix\n",
    "\n",
    "# LightGBM 모델 생성\n",
    "lgbm = lgb.LGBMClassifier(random_state=42)\n",
    "\n",
    "# 모델 학습\n",
    "lgbm.fit(X_train, y_train)\n",
    "\n",
    "# 예측\n",
    "y_pred = lgbm.predict(X_test)\n",
    "\n",
    "# 성능 평가\n",
    "accuracy = accuracy_score(y_test, y_pred)\n",
    "roc_auc = roc_auc_score(y_test, y_pred)\n",
    "conf_matrix = confusion_matrix(y_test, y_pred)\n",
    "\n",
    "print(f'Accuracy: {accuracy}')\n",
    "print(f'ROC AUC Score: {roc_auc}')\n",
    "print('Confusion Matrix:')\n",
    "print(conf_matrix)\n",
    "\n",
    "# 하이퍼파라미터 그리드 설정\n",
    "param_grid = {\n",
    "    'num_leaves': [31, 50],\n",
    "    'learning_rate': [0.01, 0.05],\n",
    "    'n_estimators': [100, 200],\n",
    "    'max_depth': [-1, 10],\n",
    "    'min_data_in_leaf': [20, 30],\n",
    "    'feature_fraction': [0.6, 0.8],\n",
    "}\n",
    "\n",
    "# GridSearchCV를 이용한 최적화\n",
    "grid_search = GridSearchCV(estimator=lgbm, param_grid=param_grid, cv=3, scoring='roc_auc', n_jobs=-1, verbose=2)\n",
    "grid_search.fit(X_train, y_train)\n",
    "\n",
    "# 최적의 하이퍼파라미터 출력\n",
    "print(f'Best parameters found by grid search: {grid_search.best_params_}')\n",
    "print(f'Best AUC Score: {grid_search.best_score_}')\n",
    "\n",
    "# 최적의 하이퍼파라미터로 최종 모델 훈련\n",
    "best_lgbm = grid_search.best_estimator_\n",
    "\n",
    "# 최종 모델 예측 및 평가\n",
    "y_pred_final = best_lgbm.predict(X_test)\n",
    "final_accuracy = accuracy_score(y_test, y_pred_final)\n",
    "final_roc_auc = roc_auc_score(y_test, y_pred_final)\n",
    "\n",
    "print(f'Final Accuracy: {final_accuracy}')\n",
    "print(f'Final ROC AUC Score: {final_roc_auc}')\n"
   ]
  },
  {
   "cell_type": "code",
   "execution_count": null,
   "metadata": {},
   "outputs": [],
   "source": []
  }
 ],
 "metadata": {
  "kernelspec": {
   "display_name": "pystudy_env",
   "language": "python",
   "name": "python3"
  },
  "language_info": {
   "codemirror_mode": {
    "name": "ipython",
    "version": 3
   },
   "file_extension": ".py",
   "mimetype": "text/x-python",
   "name": "python",
   "nbconvert_exporter": "python",
   "pygments_lexer": "ipython3",
   "version": "3.12.8"
  }
 },
 "nbformat": 4,
 "nbformat_minor": 2
}

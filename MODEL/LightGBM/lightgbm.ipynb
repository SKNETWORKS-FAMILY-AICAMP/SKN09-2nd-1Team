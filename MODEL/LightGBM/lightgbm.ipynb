{
 "cells": [
  {
   "cell_type": "markdown",
   "metadata": {},
   "source": [
    "# LightGBM"
   ]
  },
  {
   "cell_type": "code",
   "execution_count": null,
   "metadata": {},
   "outputs": [],
   "source": [
    "import numpy as np\n",
    "import pandas as pd\n",
    "from sklearn.model_selection import train_test_split\n",
    "from lightgbm import LGBMClassifier  \n",
    "from sklearn.metrics import accuracy_score, precision_score, recall_score, f1_score, classification_report, confusion_matrix\n",
    "from sklearn.model_selection import train_test_split\n",
    "from imblearn.over_sampling import SMOTE\n",
    "\n",
    "# 데이터 로드 \n",
    "final_merged_data = pd.read_csv('./data/final_merge_data.csv')\n",
    "\n",
    "\n",
    "sum_clicked_features = ['highest_education', 'imd_band', 'log_sum_click', 'log_studied_credits', 'scaled_score']\n",
    "mean_clicked_features = ['highest_education', 'imd_band', 'log_mean_click', 'log_studied_credits', 'scaled_score']\n",
    "\n",
    "sum_x = final_merged_data[sum_clicked_features]\n",
    "mean_x = final_merged_data[mean_clicked_features]\n",
    "y = final_merged_data['final_result']\n",
    "\n",
    "smote = SMOTE(sampling_strategy='auto', random_state=42)\n",
    "\n",
    "sum_x_resampled, y_resampled = smote.fit_resample(sum_x, y)\n",
    "mean_x_resampled, y_resampled = smote.fit_resample(mean_x, y)\n",
    "\n",
    "sum_x_train, sum_x_test, y_train, y_test = train_test_split(sum_x_resampled, y_resampled, test_size=0.1, random_state=42, stratify=y_resampled)\n",
    "mean_x_train, mean_x_test, y_train, y_test = train_test_split(mean_x_resampled, y_resampled, test_size=0.1, random_state=42, stratify=y_resampled)\n",
    "\n",
    "# 출력 함수\n",
    "def evaluate_clf(y_true, y_pred):\n",
    "    print('정확도 평가')\n",
    "    print('Accuracy :', accuracy_score(y_true, y_pred))\n",
    "    print('F1 Score :', f1_score(y_true, y_pred, average='weighted'))\n",
    "    print('Precision :', precision_score(y_true, y_pred, average='weighted'))\n",
    "    print('Recall :', recall_score(y_true, y_pred, average='weighted'))\n",
    "\n",
    "def evaluate_model(model_name, y_true, y_pred):\n",
    "    acc = accuracy_score(y_true, y_pred)\n",
    "    f1 = f1_score(y_true, y_pred, average='weighted')\n",
    "    print(f\"\\n=== {model_name} 성능 ===\")\n",
    "    print(f\"Accuracy: {acc:.4f}\")\n",
    "    print(f\"F1 Score: {f1:.4f}\")\n",
    "    print(\"Confusion Matrix:\")\n",
    "    print(confusion_matrix(y_true, y_pred))\n",
    "    print(\"Classification Report:\")\n",
    "    print(classification_report(y_true, y_pred))"
   ]
  },
  {
   "cell_type": "markdown",
   "metadata": {},
   "source": [
    "# LightGBM(sum_click)"
   ]
  },
  {
   "cell_type": "code",
   "execution_count": 2,
   "metadata": {},
   "outputs": [
    {
     "name": "stdout",
     "output_type": "stream",
     "text": [
      "[LightGBM] [Warning] min_data_in_leaf is set=20, min_child_samples=20 will be ignored. Current value: min_data_in_leaf=20\n",
      "[LightGBM] [Warning] feature_fraction is set=0.9, colsample_bytree=1.0 will be ignored. Current value: feature_fraction=0.9\n",
      "[LightGBM] [Warning] min_data_in_leaf is set=20, min_child_samples=20 will be ignored. Current value: min_data_in_leaf=20\n",
      "[LightGBM] [Warning] feature_fraction is set=0.9, colsample_bytree=1.0 will be ignored. Current value: feature_fraction=0.9\n",
      "[LightGBM] [Info] Number of positive: 144286, number of negative: 144286\n",
      "[LightGBM] [Info] Auto-choosing row-wise multi-threading, the overhead of testing was 0.001499 seconds.\n",
      "You can set `force_row_wise=true` to remove the overhead.\n",
      "And if memory is not enough, you can set `force_col_wise=true`.\n",
      "[LightGBM] [Info] Total Bins 744\n",
      "[LightGBM] [Info] Number of data points in the train set: 288572, number of used features: 5\n",
      "[LightGBM] [Info] [binary:BoostFromScore]: pavg=0.500000 -> initscore=0.000000\n",
      "[LightGBM] [Warning] min_data_in_leaf is set=20, min_child_samples=20 will be ignored. Current value: min_data_in_leaf=20\n",
      "[LightGBM] [Warning] feature_fraction is set=0.9, colsample_bytree=1.0 will be ignored. Current value: feature_fraction=0.9\n",
      "정확도 평가\n",
      "Accuracy : 0.8669847804391217\n",
      "F1 Score : 0.8663022233781629\n",
      "Precision : 0.8746351657828313\n",
      "Recall : 0.8669847804391217\n"
     ]
    }
   ],
   "source": [
    "lgbm_1 = LGBMClassifier(\n",
    "    num_leaves=40,\n",
    "    n_estimators=200,\n",
    "    min_data_in_leaf=20,\n",
    "    max_depth=10,\n",
    "    learning_rate=0.2,\n",
    "    feature_fraction=0.9,\n",
    "    random_state=42) \n",
    "\n",
    "lgbm_1.fit(sum_x_train, y_train)\n",
    "y_pred = lgbm_1.predict(sum_x_test)\n",
    "\n",
    "evaluate_clf(y_test, y_pred)"
   ]
  },
  {
   "cell_type": "markdown",
   "metadata": {},
   "source": [
    "# LightGBM(mean_click)"
   ]
  },
  {
   "cell_type": "code",
   "execution_count": 3,
   "metadata": {},
   "outputs": [
    {
     "name": "stdout",
     "output_type": "stream",
     "text": [
      "[LightGBM] [Warning] min_data_in_leaf is set=20, min_child_samples=20 will be ignored. Current value: min_data_in_leaf=20\n",
      "[LightGBM] [Warning] feature_fraction is set=0.9, colsample_bytree=1.0 will be ignored. Current value: feature_fraction=0.9\n",
      "[LightGBM] [Warning] min_data_in_leaf is set=20, min_child_samples=20 will be ignored. Current value: min_data_in_leaf=20\n",
      "[LightGBM] [Warning] feature_fraction is set=0.9, colsample_bytree=1.0 will be ignored. Current value: feature_fraction=0.9\n",
      "[LightGBM] [Info] Number of positive: 144286, number of negative: 144286\n",
      "[LightGBM] [Info] Auto-choosing row-wise multi-threading, the overhead of testing was 0.001536 seconds.\n",
      "You can set `force_row_wise=true` to remove the overhead.\n",
      "And if memory is not enough, you can set `force_col_wise=true`.\n",
      "[LightGBM] [Info] Total Bins 725\n",
      "[LightGBM] [Info] Number of data points in the train set: 288572, number of used features: 5\n",
      "[LightGBM] [Info] [binary:BoostFromScore]: pavg=0.500000 -> initscore=0.000000\n",
      "[LightGBM] [Warning] min_data_in_leaf is set=20, min_child_samples=20 will be ignored. Current value: min_data_in_leaf=20\n",
      "[LightGBM] [Warning] feature_fraction is set=0.9, colsample_bytree=1.0 will be ignored. Current value: feature_fraction=0.9\n",
      "정확도 평가\n",
      "Accuracy : 0.8473677644710579\n",
      "F1 Score : 0.8462728739576844\n",
      "Precision : 0.8575541956337271\n",
      "Recall : 0.8473677644710579\n"
     ]
    }
   ],
   "source": [
    "lgbm_2 = LGBMClassifier(\n",
    "    num_leaves=40,\n",
    "    n_estimators=200,\n",
    "    min_data_in_leaf=20,\n",
    "    max_depth=10,\n",
    "    learning_rate=0.2,\n",
    "    feature_fraction=0.9,\n",
    "    random_state=42) \n",
    "\n",
    "lgbm_2.fit(mean_x_train, y_train)\n",
    "y_pred = lgbm_2.predict(mean_x_test)\n",
    "\n",
    "evaluate_clf(y_test, y_pred)"
   ]
  }
 ],
 "metadata": {
  "kernelspec": {
   "display_name": "pystudy_env",
   "language": "python",
   "name": "python3"
  },
  "language_info": {
   "codemirror_mode": {
    "name": "ipython",
    "version": 3
   },
   "file_extension": ".py",
   "mimetype": "text/x-python",
   "name": "python",
   "nbconvert_exporter": "python",
   "pygments_lexer": "ipython3",
   "version": "3.12.8"
  }
 },
 "nbformat": 4,
 "nbformat_minor": 2
}

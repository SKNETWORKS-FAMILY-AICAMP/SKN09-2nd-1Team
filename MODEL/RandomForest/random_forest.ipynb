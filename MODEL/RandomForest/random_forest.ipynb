{
 "cells": [
  {
   "cell_type": "code",
   "execution_count": null,
   "metadata": {},
   "outputs": [],
   "source": [
    "import numpy as np\n",
    "import pandas as pd\n",
    "from sklearn.model_selection import train_test_split\n",
    "from lightgbm import LGBMClassifier  \n",
    "from sklearn.metrics import accuracy_score, precision_score, recall_score, f1_score, classification_report, confusion_matrix\n",
    "from sklearn.model_selection import train_test_split\n",
    "from imblearn.over_sampling import SMOTE\n",
    "\n",
    "# 데이터 로드 \n",
    "final_merged_data = pd.read_csv('./data/final_merge_data.csv')\n",
    "\n",
    "\n",
    "sum_clicked_features = ['highest_education', 'imd_band', 'log_sum_click', 'log_studied_credits', 'scaled_score']\n",
    "mean_clicked_features = ['highest_education', 'imd_band', 'log_mean_click', 'log_studied_credits', 'scaled_score']\n",
    "\n",
    "sum_x = final_merged_data[sum_clicked_features]\n",
    "mean_x = final_merged_data[mean_clicked_features]\n",
    "y = final_merged_data['final_result']\n",
    "\n",
    "smote = SMOTE(sampling_strategy='auto', random_state=42)\n",
    "\n",
    "sum_x_resampled, y_resampled = smote.fit_resample(sum_x, y)\n",
    "mean_x_resampled, y_resampled = smote.fit_resample(mean_x, y)\n",
    "\n",
    "sum_x_train, sum_x_test, y_train, y_test = train_test_split(sum_x_resampled, y_resampled, test_size=0.1, random_state=42, stratify=y_resampled)\n",
    "mean_x_train, mean_x_test, y_train, y_test = train_test_split(mean_x_resampled, y_resampled, test_size=0.1, random_state=42, stratify=y_resampled)\n",
    "\n",
    "# 출력 함수\n",
    "def evaluate_clf(y_true, y_pred):\n",
    "    print('정확도 평가')\n",
    "    print('Accuracy :', accuracy_score(y_true, y_pred))\n",
    "    print('F1 Score :', f1_score(y_true, y_pred, average='weighted'))\n",
    "    print('Precision :', precision_score(y_true, y_pred, average='weighted'))\n",
    "    print('Recall :', recall_score(y_true, y_pred, average='weighted'))\n",
    "\n",
    "def evaluate_model(model_name, y_true, y_pred):\n",
    "    acc = accuracy_score(y_true, y_pred)\n",
    "    f1 = f1_score(y_true, y_pred, average='weighted')\n",
    "    print(f\"\\n=== {model_name} 성능 ===\")\n",
    "    print(f\"Accuracy: {acc:.4f}\")\n",
    "    print(f\"F1 Score: {f1:.4f}\")\n",
    "    print(\"Confusion Matrix:\")\n",
    "    print(confusion_matrix(y_true, y_pred))\n",
    "    print(\"Classification Report:\")\n",
    "    print(classification_report(y_true, y_pred))"
   ]
  },
  {
   "cell_type": "markdown",
   "metadata": {},
   "source": [
    "# Random Forest (sum_click)"
   ]
  },
  {
   "cell_type": "code",
   "execution_count": 9,
   "metadata": {},
   "outputs": [
    {
     "name": "stdout",
     "output_type": "stream",
     "text": [
      "정확도 평가\n",
      "Accuracy : 0.8991080339321357\n",
      "F1 Score : 0.899083396089384\n",
      "Precision : 0.8994981688626658\n",
      "Recall : 0.8991080339321357\n"
     ]
    }
   ],
   "source": [
    "rf_model_1 = RandomForestClassifier(\n",
    "        random_state=42,\n",
    "        n_estimators=124,\n",
    "        max_depth=30,\n",
    "        min_samples_split=11,\n",
    "        min_samples_leaf=1,\n",
    "        max_features=None,\n",
    "        criterion='entropy'\n",
    "    )\n",
    "\n",
    "rf_model_1.fit(sum_x_train, y_train)\n",
    "y_pred = rf_model_1.predict(sum_x_test)\n",
    "\n",
    "evaluate_clf(y_test, y_pred)"
   ]
  },
  {
   "cell_type": "markdown",
   "metadata": {},
   "source": [
    "# Random Forest(mean_click)"
   ]
  },
  {
   "cell_type": "code",
   "execution_count": 10,
   "metadata": {},
   "outputs": [
    {
     "name": "stdout",
     "output_type": "stream",
     "text": [
      "정확도 평가\n",
      "Accuracy : 0.8991080339321357\n",
      "F1 Score : 0.899083396089384\n",
      "Precision : 0.8994981688626658\n",
      "Recall : 0.8991080339321357\n"
     ]
    }
   ],
   "source": [
    "rf_model_1 = RandomForestClassifier(\n",
    "        random_state=42,\n",
    "        n_estimators=124,\n",
    "        max_depth=30,\n",
    "        min_samples_split=11,\n",
    "        min_samples_leaf=1,\n",
    "        max_features=None,\n",
    "        criterion='entropy'\n",
    "    )\n",
    "\n",
    "rf_model_1.fit(sum_x_train, y_train)\n",
    "y_pred = rf_model_1.predict(sum_x_test)\n",
    "\n",
    "evaluate_clf(y_test, y_pred)"
   ]
  }
 ],
 "metadata": {
  "kernelspec": {
   "display_name": "pystudy_env",
   "language": "python",
   "name": "python3"
  },
  "language_info": {
   "codemirror_mode": {
    "name": "ipython",
    "version": 3
   },
   "file_extension": ".py",
   "mimetype": "text/x-python",
   "name": "python",
   "nbconvert_exporter": "python",
   "pygments_lexer": "ipython3",
   "version": "3.12.8"
  }
 },
 "nbformat": 4,
 "nbformat_minor": 2
}

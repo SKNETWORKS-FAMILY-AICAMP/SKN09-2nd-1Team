{
 "cells": [
  {
   "cell_type": "markdown",
   "metadata": {},
   "source": [
    "## 0. 데이터 준비"
   ]
  },
  {
   "cell_type": "code",
   "execution_count": null,
   "metadata": {},
   "outputs": [],
   "source": [
    "# 임포트\n",
    "# 데이터 전처리 및 기본 라이브러리\n",
    "import numpy as np\n",
    "import pandas as pd\n",
    "from sklearn.model_selection import train_test_split\n",
    "from sklearn.preprocessing import StandardScaler\n",
    "\n",
    "# 머신러닝 모델 임포트\n",
    "from sklearn.tree import DecisionTreeClassifier  # 결정 트리\n",
    "from sklearn.ensemble import RandomForestClassifier, GradientBoostingClassifier   # 랜덤 포레스트 , 그라디언트 부스팅\n",
    "from xgboost import XGBClassifier  # XGBoost\n",
    "from lightgbm import LGBMClassifier  # LightGBM\n",
    "from sklearn.linear_model import LogisticRegression  # 로지스틱 회귀\n",
    "from sklearn.neighbors import KNeighborsClassifier  # KNN\n",
    "\n",
    "# 평가 지표\n",
    "from sklearn.metrics import accuracy_score, precision_score, recall_score, f1_score, classification_report, confusion_matrix"
   ]
  },
  {
   "cell_type": "code",
   "execution_count": null,
   "metadata": {},
   "outputs": [],
   "source": [
    "# 1. 데이터 받기\n",
    "df = pd.read_csv('../data/final_merge_data.csv')\n",
    "\n",
    "# 2. X, y 분리\n",
    "x_col_min = []\n",
    "x_col_sum = []\n",
    "X = df[]\n",
    "y = df['final_result'] \n",
    "\n",
    "# 3. train, test 분리\n",
    "X_train, X_test, y_train, y_test = train_test_split(X, y, test_size=0.2, stratify=y, random_state=42)\n"
   ]
  },
  {
   "cell_type": "code",
   "execution_count": null,
   "metadata": {},
   "outputs": [],
   "source": [
    "# 정확도 확인 함수\n",
    "\n",
    "def evaluate_clf(y_true, y_pred):\n",
    "    print('정확도 평가')\n",
    "    print('Accuracy :', accuracy_score(y_true, y_pred))\n",
    "    print('F1 Score :', f1_score(y_true, y_pred, average='weighted'))\n",
    "    print('Precision :', precision_score(y_true, y_pred, average='weighted'))\n",
    "    print('Recall :', recall_score(y_true, y_pred, average='weighted'))\n",
    "    "
   ]
  },
  {
   "cell_type": "markdown",
   "metadata": {},
   "source": [
    "## 1. 랜덤포레스트 (영서)"
   ]
  },
  {
   "cell_type": "code",
   "execution_count": null,
   "metadata": {},
   "outputs": [],
   "source": [
    "# 모델 생성 및 학습\n",
    "rf_model_1 = RandomForestClassifier(\n",
    "        random_state=42,\n",
    "        n_estimators=124,\n",
    "        max_depth=30,\n",
    "        min_samples_split=11,\n",
    "        min_samples_leaf=1,\n",
    "        max_features=None,\n",
    "        criterion='entropy'\n",
    "    )\n",
    "\n",
    "rf_model_2 = RandomForestClassifier(\n",
    "        random_state=42,\n",
    "        n_estimators=300,\n",
    "        max_depth=20,\n",
    "        min_samples_split=10,\n",
    "        min_samples_leaf=2,\n",
    "        max_features='sqrt',\n",
    "        bootstrap=False\n",
    "    )\n",
    "\n",
    "\n",
    "rf_model_1.fit(X_train, y_train)\n",
    "y_pred = rf_model_2.predict(X_test)\n",
    "\n",
    "\n",
    "# 예측 및 정확도 확인\n",
    "evaluate_clf(y_test, y_pred)"
   ]
  },
  {
   "cell_type": "markdown",
   "metadata": {},
   "source": [
    "## 2. 그리디언트 부스팅 (영서-민훈)"
   ]
  },
  {
   "cell_type": "code",
   "execution_count": null,
   "metadata": {},
   "outputs": [],
   "source": [
    "gbm_model = GradientBoostingClassifier(learning_rate= 0.15, \n",
    "                                       max_depth= 10,\n",
    "                                       min_samples_leaf= 2, \n",
    "                                       min_samples_split= 5,\n",
    "                                       n_estimators= 150, \n",
    "                                       random_state=42)\n",
    "gbm_model.fit(X_train, y_train)\n",
    "y_pred = gbm_model.predict(X_test)\n",
    "\n",
    "# 예측 및 정확도 확인\n",
    "evaluate_clf(y_test, y_pred)"
   ]
  },
  {
   "cell_type": "markdown",
   "metadata": {},
   "source": [
    "## 3. 결정트리 (환-영서)"
   ]
  },
  {
   "cell_type": "code",
   "execution_count": null,
   "metadata": {},
   "outputs": [],
   "source": [
    "# 모델 생성 및 학습\n",
    "# Decision Tree 모델 초기화\n",
    "dt = DecisionTreeClassifier(max_depth= None, \n",
    "                            max_features= None,\n",
    "                            min_samples_leaf= 1,\n",
    "                            min_samples_split=2\n",
    "                            )\n",
    "dt.fit(X_train, y_train)\n",
    "y_pred = gbm_model.predict(X_test)\n",
    "\n",
    "# 예측 및 정확도 확인\n",
    "evaluate_clf(y_test, y_pred)"
   ]
  },
  {
   "cell_type": "markdown",
   "metadata": {},
   "source": [
    "## 4. KNN (영서)"
   ]
  },
  {
   "cell_type": "code",
   "execution_count": null,
   "metadata": {},
   "outputs": [],
   "source": [
    "# 모델 생성 및 학습\n",
    "model = KNeighborsClassifier()\n",
    "model.fit(X_train, y_train)\n",
    "y_pred = model.predict(X_test)\n",
    "\n",
    "# 예측 및 정확도 확인\n",
    "evaluate_clf(y_test, y_pred)"
   ]
  },
  {
   "cell_type": "markdown",
   "metadata": {},
   "source": [
    "## 5. XGBoost (도연)"
   ]
  },
  {
   "cell_type": "code",
   "execution_count": null,
   "metadata": {},
   "outputs": [],
   "source": [
    "# 모델 생성 및 학습\n",
    "xgb_model = XGBClassifier(eval_metric='mlogloss')\n",
    "xgb_model.fit(X_train, y_train)\n",
    "y_pred = xgb_model.predict(X_test)\n",
    "\n",
    "\n",
    "# 예측 및 정확도 확인\n",
    "evaluate_clf(y_test, y_pred)"
   ]
  },
  {
   "cell_type": "markdown",
   "metadata": {},
   "source": [
    "## 6. LightGBM (도연)"
   ]
  },
  {
   "cell_type": "code",
   "execution_count": null,
   "metadata": {},
   "outputs": [],
   "source": [
    "lgbm = LGBMClassifier(\n",
    "    num_leaves=40,\n",
    "    n_estimators=200,\n",
    "    min_data_in_leaf=20,\n",
    "    max_depth=10,\n",
    "    learning_rate=0.2,\n",
    "    feature_fraction=0.9,\n",
    "    random_state=42, \n",
    "    device=\"gpu\")  # GPU 사용 가능하면 활성화\n",
    "\n",
    "lgbm.fit(X_train, y_train)\n",
    "y_pred = lgbm.predict(X_test)\n",
    "\n",
    "\n",
    "# 예측 및 정확도 확인\n",
    "evaluate_clf(y_test, y_pred)"
   ]
  },
  {
   "cell_type": "markdown",
   "metadata": {},
   "source": [
    "## 7. 로지스틱 회귀 (영서)"
   ]
  },
  {
   "cell_type": "code",
   "execution_count": null,
   "metadata": {},
   "outputs": [],
   "source": [
    "# 모델 생성 및 학습\n",
    "model = LogisticRegression(random_state=42, max_iter=1000, C= 0.01, solver= 'liblinear')\n",
    "model.fit(X_train, y_train)\n",
    "y_pred = model.predict(X_test)\n",
    "\n",
    "# 예측 및 정확도 확인\n",
    "evaluate_clf(y_test, y_pred)"
   ]
  }
 ],
 "metadata": {
  "kernelspec": {
   "display_name": "pystudy_env",
   "language": "python",
   "name": "python3"
  },
  "language_info": {
   "codemirror_mode": {
    "name": "ipython",
    "version": 3
   },
   "file_extension": ".py",
   "mimetype": "text/x-python",
   "name": "python",
   "nbconvert_exporter": "python",
   "pygments_lexer": "ipython3",
   "version": "3.12.8"
  }
 },
 "nbformat": 4,
 "nbformat_minor": 2
}
